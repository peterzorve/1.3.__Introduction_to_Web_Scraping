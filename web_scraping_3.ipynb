{
 "cells": [
  {
   "cell_type": "markdown",
   "metadata": {},
   "source": [
    "# API REQUEST"
   ]
  },
  {
   "cell_type": "code",
   "execution_count": null,
   "metadata": {},
   "outputs": [],
   "source": [
    "import requests\n",
    "import json\n",
    "from bs4 import BeautifulSoup   \n",
    "\n",
    "\"\"\" Set up the parameters we want to pass to the API. This is the latitude and longitude of New York City. \"\"\"\n",
    "parameters = {\"lat\": 40.71, \"lon\": -74}\n",
    "\n",
    "\n",
    "# Make a get request with the pahttp://api.open-notify.orgrameters. \n",
    "response = requests.get(\"http://api.open-notify.org/iss-pass.json\", params=parameters)\n",
    "\n",
    "\"\"\"  is the response positive? \"\"\" \n",
    "print(response)\n",
    "\n",
    "# Print the content of the response (the data the server returned)\n",
    "#print(response.content)\n",
    "\n",
    "# save response into a much nicer format\n",
    "a = response.json()\n",
    "#print(response.json())\n",
    "\n",
    "pretty_json = json.dumps(a, indent=4, sort_keys=True)\n",
    "print(pretty_json)\n"
   ]
  },
  {
   "cell_type": "code",
   "execution_count": null,
   "metadata": {},
   "outputs": [],
   "source": [
    "# Make the same request we did earlier, but with the coordinates of San Francisco instead.\n",
    "\n",
    "parameters = {\"lat\": 37.78, \"lon\": -122.41}\n",
    "response = requests.get(\"http://api.open-notify.org/iss-pass.json\", params=parameters)\n",
    "# Get the response data as a python object. Verify that it's a dictionary.\n",
    "data = response.json()\n",
    "#print(type(data))\n",
    "#print(data)\n",
    "\n",
    "\n",
    "\n",
    "pretty_json = json.dumps(data, indent=4, sort_keys=True)\n",
    "print(pretty_json)\n"
   ]
  },
  {
   "cell_type": "code",
   "execution_count": null,
   "metadata": {},
   "outputs": [],
   "source": [
    "with open(\"latlong_ny.json\", \"w\") as fp:\n",
    "    json.dump(a,fp) \n",
    "\n",
    "with open('latlong.json') as json_file:\n",
    "    data = json.load(json_file)\n",
    "    for p in data['response']:\n",
    "        print(f\"Duration: {p['duration']}\")\n",
    "        print(f\"RiseTime: {p['risetime']}\")\n",
    "        print('')"
   ]
  },
  {
   "cell_type": "markdown",
   "metadata": {},
   "source": [
    "# CSV"
   ]
  },
  {
   "cell_type": "code",
   "execution_count": null,
   "metadata": {},
   "outputs": [
    {
     "name": "stdout",
     "output_type": "stream",
     "text": [
      "Column names are Name, Appearance, Origin\n",
      "\t The beer Edelweiss is White, and it is from Austria.\n",
      "\t The beer Cuvée des Trolls is Blond, and it is from Belgium.\n",
      "\t The beer Choulette Ambrée is Amber, and it is from France.\n",
      "\t The beer Gulden Draak is Dark, and it is from Belgium.\n",
      "\t The beer Water is Crystal Clear, and it is from Anywhere.\n",
      "Processed 6 lines.\n"
     ]
    }
   ],
   "source": [
    "import csv\n",
    "\n",
    "with open('./data/beers.csv') as csv_file:\n",
    "    csv_reader = csv.reader(csv_file, delimiter=',')\n",
    "    line_count = 0\n",
    "    for row in csv_reader:\n",
    "        if line_count == 0:\n",
    "            print(f'Column names are {\", \".join(row)}')\n",
    "            line_count += 1\n",
    "        else:\n",
    "            print(f'\\t The beer {row[0]} is {row[1]}, and it is from {row[2]}.')\n",
    "            line_count += 1\n",
    "    print(f'Processed {line_count} lines.')\n"
   ]
  },
  {
   "cell_type": "markdown",
   "metadata": {},
   "source": [
    "# CSV into Dictionary"
   ]
  },
  {
   "cell_type": "code",
   "execution_count": null,
   "metadata": {},
   "outputs": [
    {
     "name": "stdout",
     "output_type": "stream",
     "text": [
      "Column names are Name, Appearance, Origin\n",
      "\tThe beer Edelweiss is White, and it is from Austria.\n",
      "\tThe beer Cuvée des Trolls is Blond, and it is from Belgium.\n",
      "\tThe beer Choulette Ambrée is Amber, and it is from France.\n",
      "\tThe beer Gulden Draak is Dark, and it is from Belgium.\n",
      "\tThe beer Water is Crystal Clear, and it is from Anywhere.\n",
      "Processed 6 lines.\n"
     ]
    }
   ],
   "source": [
    "import csv\n",
    "\n",
    "with open('./data/beers.csv', mode='r') as csv_file:\n",
    "    csv_reader = csv.DictReader(csv_file)\n",
    "    line_count = 0\n",
    "    for row in csv_reader:\n",
    "        if line_count == 0:\n",
    "            print(f'Column names are {\", \".join(row)}')\n",
    "            line_count += 1\n",
    "        print(f'\\tThe beer {row[\"Name\"]} is {row[\"Appearance\"]}, and it is from {row[\"Origin\"]}.')\n",
    "        line_count += 1\n",
    "    print(f'Processed {line_count} lines.')\n"
   ]
  },
  {
   "cell_type": "markdown",
   "metadata": {},
   "source": [
    "# The Power of Pandas"
   ]
  },
  {
   "cell_type": "code",
   "execution_count": null,
   "metadata": {},
   "outputs": [
    {
     "name": "stdout",
     "output_type": "stream",
     "text": [
      "               Name     Appearance    Origin\n",
      "0         Edelweiss          White   Austria\n",
      "1  Cuvée des Trolls          Blond   Belgium\n",
      "2  Choulette Ambrée          Amber    France\n",
      "3      Gulden Draak           Dark   Belgium\n",
      "4             Water  Crystal Clear  Anywhere\n"
     ]
    }
   ],
   "source": [
    "import pandas\n",
    "\n",
    "df = pandas.read_csv('./data/beers.csv')\n",
    "\n",
    "print(df)\n"
   ]
  },
  {
   "cell_type": "markdown",
   "metadata": {},
   "source": [
    "# downloading html with requests library"
   ]
  },
  {
   "cell_type": "code",
   "execution_count": null,
   "metadata": {},
   "outputs": [
    {
     "data": {
      "text/plain": [
       "<Response [200]>"
      ]
     },
     "execution_count": 9,
     "metadata": {},
     "output_type": "execute_result"
    }
   ],
   "source": [
    "import requests\n",
    "page = requests.get(\"http://dataquestio.github.io/web-scraping-pages/simple.html\")\n",
    "page"
   ]
  },
  {
   "cell_type": "markdown",
   "metadata": {},
   "source": [
    "# We can print out the HTML content of the page using the content property: "
   ]
  },
  {
   "cell_type": "code",
   "execution_count": null,
   "metadata": {},
   "outputs": [
    {
     "data": {
      "text/plain": [
       "b'<!DOCTYPE html>\\n<html>\\n    <head>\\n        <title>A simple example page</title>\\n    </head>\\n    <body>\\n        <p>Here is some simple content for this page.</p>\\n    </body>\\n</html>'"
      ]
     },
     "execution_count": 10,
     "metadata": {},
     "output_type": "execute_result"
    }
   ],
   "source": [
    "import requests\n",
    "page = requests.get(\"http://dataquestio.github.io/web-scraping-pages/simple.html\")\n",
    "page\n",
    "\n",
    "page.status_code\n",
    "page.content"
   ]
  },
  {
   "cell_type": "markdown",
   "metadata": {},
   "source": [
    "# Beautiful Soup"
   ]
  },
  {
   "cell_type": "code",
   "execution_count": null,
   "metadata": {
    "tags": [
     "outputPrepend"
    ]
   },
   "outputs": [
    {
     "name": "stdout",
     "output_type": "stream",
     "text": [
      "<body>\n",
      "<main class=\"container\">\n",
      "<header class=\"row clearfix\" id=\"page-header\">\n",
      "<a class=\"pull-left\" href=\"//www.noaa.gov\" id=\"header-noaa\"><img alt=\"National Oceanic and Atmospheric Administration\" src=\"/css/images/header_noaa.png\"/></a>\n",
      "<a class=\"pull-left\" href=\"//www.weather.gov\" id=\"header-nws\"><img alt=\"National Weather Service\" src=\"/css/images/header_nws.png\"/></a>\n",
      "<a class=\"pull-right\" href=\"//www.commerce.gov\" id=\"header-doc\"><img alt=\"United States Department of Commerce\" src=\"/css/images/header_doc.png\"/></a>\n",
      "</header>\n",
      "<nav class=\"navbar navbar-default row\" role=\"navigation\">\n",
      "<div class=\"container-fluid\">\n",
      "<div class=\"navbar-header\">\n",
      "<button class=\"navbar-toggle collapsed\" data-target=\"#top-nav\" data-toggle=\"collapse\" type=\"button\">\n",
      "<span class=\"sr-only\">Toggle navigation</span>\n",
      "<span class=\"icon-bar\"></span>\n",
      "<span class=\"icon-bar\"></span>\n",
      "<span class=\"icon-bar\"></span>\n",
      "</button>\n",
      "</div>\n",
      "<div class=\"collapse navbar-collapse\" id=\"top-nav\">\n",
      "<ul class=\"nav navbar-nav\">\n",
      "<li><a href=\"//www.weather.gov\">HOME</a></li>\n",
      "<li class=\"dropdown\"><a class=\"dropdown-toggle\" data-toggle=\"dropdown\" href=\"http://www.weather.gov/forecastmaps\">FORECAST <span class=\"caret\"></span></a><ul class=\"dropdown-menu\" role=\"menu\"><li><a href=\"http://www.weather.gov\">Local</a></li><li><a href=\"http://digital.weather.gov\">Graphical</a></li><li><a href=\"http://www.aviationweather.gov/\">Aviation</a></li><li><a href=\"http://www.weather.gov/marine\">Marine</a></li><li><a href=\"http://water.weather.gov/ahps/\">Rivers and Lakes</a></li><li><a href=\"http://www.nhc.noaa.gov/\">Hurricanes</a></li><li><a href=\"http://www.spc.noaa.gov/\">Severe Weather</a></li><li><a href=\"http://www.weather.gov/fire/\">Fire Weather</a></li><li><a href=\"https://www.esrl.noaa.gov/gmd/grad/solcalc/sunrise.html\">Sun/Moon</a></li><li><a href=\"http://www.cpc.ncep.noaa.gov/\">Long Range Forecasts</a></li><li><a href=\"http://www.cpc.ncep.noaa.gov\">Climate Prediction</a></li><li><a href=\"https://www.swpc.noaa.gov/\">Space Weather</a></li></ul> </li>\n",
      "<li class=\"dropdown\"><a class=\"dropdown-toggle\" data-toggle=\"dropdown\" href=\"https://www.weather.gov/wrh/climate/\">PAST WEATHER <span class=\"caret\"></span></a><ul class=\"dropdown-menu\" role=\"menu\"><li><a href=\"https://www.weather.gov/wrh/climate/\">Past Weather</a></li><li><a href=\"https://www.weather.gov/wrh/climate/\">Heating/Cooling Days</a></li><li><a href=\"https://www.weather.gov/wrh/climate/\">Monthly Temperatures</a></li><li><a href=\"https://www.weather.gov/wrh/climate/\">Records</a></li><li><a href=\"http://aa.usno.navy.mil/\">Astronomical Data</a></li></ul> </li>\n",
      "<li class=\"dropdown\"><a class=\"dropdown-toggle\" data-toggle=\"dropdown\" href=\"http://www.weather.gov/safety\">SAFETY <span class=\"caret\"></span></a><ul class=\"dropdown-menu\" role=\"menu\"><li><a href=\"https://www.weather.gov/safety/tsunami\">Tsunamis</a></li><li><a href=\"https://www.weather.gov/safety/flood\">Floods</a></li><li><a href=\"https://www.weather.gov/safety/beachhazards\">Beach Hazards</a></li><li><a href=\"https://www.weather.gov/safety/wildfire\">Wildfire</a></li><li><a href=\"https://www.weather.gov/safety/cold\">Cold</a></li><li><a href=\"https://www.weather.gov/safety/tornado\">Tornadoes</a></li><li><a href=\"https://www.weather.gov/safety/airquality\">Air Quality</a></li><li><a href=\"https://www.weather.gov/safety/fog\">Fog</a></li><li><a href=\"https://www.weather.gov/safety/heat\">Heat</a></li><li><a href=\"https://www.weather.gov/safety/hurricane\">Hurricanes</a></li><li><a href=\"https://www.weather.gov/safety/lightning\">Lightning</a></li><li><a href=\"https://www.weather.gov/safety/ripcurrent\">Rip Currents</a></li><li><a href=\"https://www.weather.gov/safety/safeboating\">Safe Boating</a></li><li><a href=\"https://www.weather.gov/safety/thunderstorm\">Thunderstorms</a></li><li><a href=\"https://www.weather.gov/safety/space\">Space Weather</a></li><li><a href=\"https://www.weather.gov/safety/heat-uv\">Sun (Ultraviolet Radiation)</a></li><li><a href=\"http://www.weather.gov/safetycampaign\">Safety Campaigns</a></li><li><a href=\"https://www.weather.gov/safety/wind\">Wind</a></li><li><a href=\"https://www.weather.gov/safety/drought\">Drought</a></li><li><a href=\"https://www.weather.gov/safety/winter\">Winter Weather</a></li></ul> </li>\n",
      "<li class=\"dropdown\"><a class=\"dropdown-toggle\" data-toggle=\"dropdown\" href=\"http://www.weather.gov/informationcenter\">INFORMATION <span class=\"caret\"></span></a><ul class=\"dropdown-menu\" role=\"menu\"><li><a href=\"http://www.weather.gov/wrn/wea\">Wireless Emergency Alerts</a></li><li><a href=\"https://www.weather.gov/owlie/publication_brochures\">Brochures</a></li><li><a href=\"http://www.weather.gov/wrn/\">Weather-Ready Nation</a></li><li><a href=\"https://www.weather.gov/coop/\">Cooperative Observers</a></li><li><a href=\"http://www.weather.gov/briefing/\">Daily Briefing</a></li><li><a href=\"http://www.nws.noaa.gov/om/hazstats.shtml\">Damage/Fatality/Injury Statistics</a></li><li><a href=\"http://mag.ncep.noaa.gov/\">Forecast Models</a></li><li><a href=\"https://www.weather.gov/gis\">GIS Data Portal</a></li><li><a href=\"https://www.weather.gov/nwr/\">NOAA Weather Radio</a></li><li><a href=\"http://weather.gov/publications\">Publications</a></li><li><a href=\"http://www.weather.gov/SKYWARN\">SKYWARN Storm Spotters</a></li><li><a href=\"http://www.weather.gov/StormReady\">StormReady</a></li><li><a href=\"https://www.weather.gov/TsunamiReady/\">TsunamiReady</a></li><li><a href=\"https://www.weather.gov/notification/\">Service Change Notices</a></li></ul> </li>\n",
      "<li class=\"dropdown\"><a class=\"dropdown-toggle\" data-toggle=\"dropdown\" href=\"http://www.weather.gov/education\">EDUCATION <span class=\"caret\"></span></a><ul class=\"dropdown-menu\" role=\"menu\"><li><a href=\"https://www.weather.gov/wrn/force\">Be A Force of Nature</a></li><li><a href=\"http://www.weather.gov/owlie\">NWS Education Home</a></li></ul> </li>\n",
      "<li class=\"dropdown\"><a class=\"dropdown-toggle\" data-toggle=\"dropdown\" href=\"http://www.weather.gov/news/\">NEWS <span class=\"caret\"></span></a><ul class=\"dropdown-menu\" role=\"menu\"><li><a href=\"http://www.weather.gov/news\">NWS News</a></li><li><a href=\"https://www.weather.gov/wrn/calendar\">Events</a></li><li><a href=\"http://www.weather.gov/socialmedia\">Social Media</a></li><li><a href=\"https://www.weather.gov/owlie/publication_brochures\">Pubs/Brochures/Booklets </a></li><li><a href=\"http://www.noaa.gov/NOAA-Communications\">NWS Media Contacts</a></li></ul> </li>\n",
      "<li class=\"dropdown\"><a class=\"dropdown-toggle\" data-toggle=\"dropdown\" href=\"http://www.weather.gov/search\">SEARCH <span class=\"caret\"></span></a><ul class=\"dropdown-menu\" role=\"menu\"> <li><!-- Begin search code -->\n",
      "<div id=\"site-search\">\n",
      "<form action=\"//search.usa.gov/search\" method=\"get\" style=\"margin-bottom: 0; margin-top: 0;\">\n",
      "<input name=\"v:project\" type=\"hidden\" value=\"firstgov\"/>\n",
      "<label for=\"query\">Search For</label>\n",
      "<input id=\"query\" name=\"query\" size=\"12\" type=\"text\"/>\n",
      "<input type=\"submit\" value=\"Go\"/>\n",
      "<p>\n",
      "<input checked=\"checked\" id=\"nws\" name=\"affiliate\" type=\"radio\" value=\"nws.noaa.gov\"/>\n",
      "<label class=\"search-scope\" for=\"nws\">NWS</label>\n",
      "<input id=\"noaa\" name=\"affiliate\" type=\"radio\" value=\"noaa.gov\"/>\n",
      "<label class=\"search-scope\" for=\"noaa\">All NOAA</label>\n",
      "</p>\n",
      "</form>\n",
      "</div>\n",
      "</li>\n",
      "</ul> </li>\n",
      "<li class=\"dropdown\"><a class=\"dropdown-toggle\" data-toggle=\"dropdown\" href=\"http://www.weather.gov/about\">ABOUT <span class=\"caret\"></span></a><ul class=\"dropdown-menu\" role=\"menu\"><li><a href=\"http://www.weather.gov/about\">About NWS</a></li><li><a href=\"http://www.weather.gov/organization\">Organization</a></li><li><a href=\"https://www.weather.gov/media/wrn/NWS_Weather-Ready-Nation_Strategic_Plan_2019-2022.pdf\">Strategic Plan</a></li><li><a href=\"http://www.weather.gov/careers/#diversity\">Commitment to Diversity</a></li><li><a href=\"https://sites.google.com/a/noaa.gov/nws-insider/\">For NWS Employees</a></li><li><a href=\"http://www.weather.gov/insider\">International</a></li><li><a href=\"http://www.weather.gov/organization\">National Centers</a></li><li><a href=\"http://www.weather.gov/careers/\">Careers</a></li><li><a href=\"http://www.weather.gov/contact\">Contact Us</a></li><li><a href=\"https://w1.weather.gov/glossary\">Glossary</a></li></ul> </li>\n",
      "</ul>\n",
      "</div>\n",
      "</div>\n",
      "</nav>\n",
      "<div class=\"contentArea\">\n",
      "<!-- Start Forecastsearch -->\n",
      "<div class=\"\" id=\"fcst-search\">\n",
      "<form action=\"https://forecast.weather.gov/zipcity.php\" class=\"form-inline\" id=\"getForecast\" method=\"get\" name=\"getForecast\" role=\"form\">\n",
      "<div id=\"getfcst-body\">\n",
      "<input class=\"form-control\" id=\"inputstring\" name=\"inputstring\" placeholder=\"\" type=\"text\"/>\n",
      "<input class=\"btn btn-default\" id=\"btnSearch\" name=\"btnSearch\" type=\"submit\" value=\"Go\"/>\n",
      "<div id=\"txtHelp\"><a href=\"javascript:void(window.open('http://weather.gov/ForecastSearchHelp.html','locsearchhelp','status=0,toolbar=0,location=0,menubar=0,directories=0,resizable=1,scrollbars=1,height=500,width=530').focus());\">View Location Examples</a></div>\n",
      "</div>\n",
      "<div id=\"txtError\">\n",
      "<div id=\"errorNoResults\" style=\"display:none;\">Sorry, the location you searched for was not found. Please try another search.</div>\n",
      "<div id=\"errorMultipleResults\" style=\"display:none\">Multiple locations were found. Please select one of the following:</div>\n",
      "<div id=\"errorChoices\" style=\"display:none\"></div>\n",
      "<input id=\"btnCloseError\" style=\"display:none\" type=\"button\" value=\"Close\"/>\n",
      "</div>\n",
      "<div id=\"getfcst-head\">\n",
      "<p>Your local forecast office is</p>\n",
      "<h3 id=\"getfcst-headOffice\"></h3>\n",
      "</div>\n",
      "</form>\n",
      "</div>\n",
      "<!-- end Forecastsearch -->\n",
      "<link href=\"/css/topnews.css\" rel=\"stylesheet\" type=\"text/css\"/>\n",
      "<div id=\"news-items\">\n",
      "<div class=\"important\" id=\"topnews\">\n",
      "<div class=\"icon\"><img src=\"/images/news-important.jpg\"/></div>\n",
      "<div class=\"body\">\n",
      "<h1 style=\"font-size: 11pt;\">Strong Winter Storm Across the Center of the Nation; Flooding Potential Increases for Hawaii</h1>\n",
      "<p>\n",
      "            A strong storm will track across the southern Plains to the Great Lakes through Thursday. A ribbon of heavy snow is forecast to stretch from the central High Plains into the Great Lakes region. A narrow corridor of sleet and freezing rain from northern Missouri, northern Illinois to southeast lower Michigan. Severe thunderstorms are expected from the lower Mississippi Valley to the Ohio Valley.\n",
      "            <a href=\"http://www.wpc.ncep.noaa.gov/discussions/hpcdiscussions.php?disc=pmdspd\" target=\"_blank\">Read More &gt;</a>\n",
      "</p>\n",
      "</div>\n",
      "</div>\n",
      "</div>\n",
      "<script type=\"text/javascript\">(function ($) { var topnews = $(\"#topnews\"); topnews.hide(); $.get(\"siteNews.php\", {a:\"mtr\"},function(response){ if (response !== \"false\") topnews.replaceWith($(response)); topnews.show(); }); })(jQuery);</script><!-- PageFormat-Land -->\n",
      "<script language=\"javascript\">document.title = '7-Day Forecast 37.77N 122.41W';</script><img src=\"images/track_land_point.png\" style=\"display:none;\"><div class=\"panel panel-danger\"><div class=\"panel-heading\"><h3 class=\"panel-title\">Hazardous Weather Conditions</h3></div><div class=\"panel-body\"><ul><li><a class=\"anchor-hazards\" href=\"showsigwx.php?warnzone=CAZ006&amp;warncounty=CAC075&amp;firewxzone=CAZ006&amp;local_place1=San Francisco CA&amp;product1=Beach+Hazards+Statement&amp;lat=37.7771&amp;lon=-122.4196\" id=\"hazard-CAZ006-Beach+Hazards+Statement-0\">Beach Hazards Statement in effect from February 16,  09:00 AM PST until February 17, 09:00 AM PST</a></li></ul></div></div>\n",
      "<div id=\"quickLinks\">\n",
      "<span class=\"lang-spanish\"><a href=\"//forecast.weather.gov/MapClick.php?lat=37.777120000000025&amp;lon=-122.41963999999996&amp;lg=sp\">En Español</a></span>\n",
      "<div class=\"addthis_toolbox addthis_default_style addthis-forecast\">\n",
      "<a class=\"addthis_button_compact\" href=\"//www.addthis.com/bookmark.php?v=250&amp;pubid=ra-5127a6364d551d04\">Share</a>\n",
      "<span class=\"addthis_separator\">|</span>\n",
      "<a class=\"addthis_button_preferred_1\"></a>\n",
      "<a class=\"addthis_button_preferred_2\"></a>\n",
      "<a class=\"addthis_button_preferred_3\"></a>\n",
      "<a class=\"addthis_button_preferred_4\"></a>\n",
      "<a class=\"addthis_button_preferred_5\"></a>\n",
      "</div>\n",
      "<script type=\"text/javascript\">\n",
      "        var addthis_config = addthis_config || {data_track_addressbar:true, pubid: 'xa-4b05b2d91f18c9cc'};\n",
      "        $(document).ready(function(){\n",
      "            jQuery.ajax({\n",
      "                url: \"//s7.addthis.com/js/300/addthis_widget.js#async=1\",\n",
      "                dataType: \"script\",\n",
      "                cache: false\n",
      "            });\n",
      "        });\n",
      "    </script>\n",
      "</div>\n",
      "<!-- Current Conditions -->\n",
      "<div class=\"panel panel-default\" id=\"current-conditions\">\n",
      "<!-- Current Conditions header row -->\n",
      "<div class=\"panel-heading\">\n",
      "<div>\n",
      "<b>Current conditions at</b>\n",
      "<h2 class=\"panel-title\">SAN FRANCISCO DOWNTOWN (SFOC1)</h2>\n",
      "<span class=\"smallTxt\"><b>Lat: </b>37.77056°N<b>Lon: </b>122.42694°W<b>Elev: </b>150ft.</span>\n",
      "</div>\n",
      "</div>\n",
      "<div class=\"panel-body\" id=\"current-conditions-body\">\n",
      "<!-- Graphic and temperatures -->\n",
      "<div class=\"pull-left\" id=\"current_conditions-summary\">\n",
      "<p class=\"myforecast-current\">NA</p>\n",
      "<p class=\"myforecast-current-lrg\">43°F</p>\n",
      "<p class=\"myforecast-current-sm\">6°C</p>\n",
      "</div>\n",
      "<div class=\"pull-left\" id=\"current_conditions_detail\">\n",
      "<table>\n",
      "<tr>\n",
      "<td class=\"text-right\"><b>Humidity</b></td>\n",
      "<td>75%</td>\n",
      "</tr>\n",
      "<tr>\n",
      "<td class=\"text-right\"><b>Wind Speed</b></td>\n",
      "<td>NA NA MPH</td>\n",
      "</tr>\n",
      "<tr>\n",
      "<td class=\"text-right\"><b>Barometer</b></td>\n",
      "<td>NA</td>\n",
      "</tr>\n",
      "<tr>\n",
      "<td class=\"text-right\"><b>Dewpoint</b></td>\n",
      "<td>35°F (2°C)</td>\n",
      "</tr>\n",
      "<tr>\n",
      "<td class=\"text-right\"><b>Visibility</b></td>\n",
      "<td>NA</td>\n",
      "</tr>\n",
      "<tr>\n",
      "<td class=\"text-right\"><b>Last update</b></td>\n",
      "<td>\n",
      "                16 Feb 03:43 AM PST            </td>\n",
      "</tr>\n",
      "</table>\n",
      "</div>\n",
      "<div id=\"current_conditions_station\">\n",
      "<div class=\"current-conditions-extra\">\n",
      "<!-- Right hand section -->\n",
      "<p class=\"moreInfo\"><b>More Information:</b></p><p><a href=\"https://www.weather.gov/mtr\" id=\"localWFO\" title=\"San Francisco Bay Area/Monterey, CA\"><span class=\"hideText\">Local</span> Forecast Office</a><a href=\"https://www.weather.gov/wrh/LocalWeather?zone=CAZ006\" id=\"moreWx\">More Local Wx</a><a href=\"https://www.wrh.noaa.gov/mesowest/getobext.php?wfo=mtr&amp;sid=SFOC1&amp;num=72&amp;raw=0\">3 Day History</a><a href=\"//mobile.weather.gov/index.php?lat=37.7771&amp;lon=-122.4196&amp;unit=0&amp;lg=english\" id=\"mobileWxLink\">Mobile Weather</a><a href=\"MapClick.php?lat=37.7771&amp;lon=-122.4196&amp;unit=0&amp;lg=english&amp;FcstType=graphical\" id=\"wxGraph\">Hourly <span class=\"hideText\">Weather </span>Forecast</a></p> </div>\n",
      "<!-- /current_conditions_station -->\n",
      "</div>\n",
      "<!-- /current-conditions-body -->\n",
      "</div>\n",
      "<!-- /Current Conditions -->\n",
      "</div>\n",
      "<!-- 7-Day Forecast -->\n",
      "<div class=\"panel panel-default\" id=\"seven-day-forecast\">\n",
      "<div class=\"panel-heading\">\n",
      "<b>Extended Forecast for</b>\n",
      "<h2 class=\"panel-title\">\n",
      "                San Francisco CA    </h2>\n",
      "</div>\n",
      "<div class=\"panel-body\" id=\"seven-day-forecast-body\">\n",
      "<div id=\"seven-day-forecast-container\"><ul class=\"list-unstyled\" id=\"seven-day-forecast-list\"><li class=\"forecast-tombstone\">\n",
      "<div class=\"tombstone-container\">\n",
      "<p class=\"period-name\">Today<br/><br/></p>\n",
      "<p><img alt=\"Today: Mostly cloudy, with a high near 58. Southeast wind 5 to 7 mph. \" class=\"forecast-icon\" src=\"newimages/medium/bkn.png\" title=\"Today: Mostly cloudy, with a high near 58. Southeast wind 5 to 7 mph. \"/></p><p class=\"short-desc\">Mostly Cloudy</p><p class=\"temp temp-high\">High: 58 °F</p></div></li><li class=\"forecast-tombstone\">\n",
      "<div class=\"tombstone-container\">\n",
      "<p class=\"period-name\">Tonight<br/><br/></p>\n",
      "<p><img alt=\"Tonight: Mostly cloudy, with a low around 43. South southeast wind around 7 mph becoming east after midnight. \" class=\"forecast-icon\" src=\"newimages/medium/nbkn.png\" title=\"Tonight: Mostly cloudy, with a low around 43. South southeast wind around 7 mph becoming east after midnight. \"/></p><p class=\"short-desc\">Mostly Cloudy</p><p class=\"temp temp-low\">Low: 43 °F</p></div></li><li class=\"forecast-tombstone\">\n",
      "<div class=\"tombstone-container\">\n",
      "<p class=\"period-name\">Friday<br/><br/></p>\n",
      "<p><img alt=\"Friday: Partly sunny, with a high near 60. East northeast wind around 8 mph. \" class=\"forecast-icon\" src=\"newimages/medium/bkn.png\" title=\"Friday: Partly sunny, with a high near 60. East northeast wind around 8 mph. \"/></p><p class=\"short-desc\">Partly Sunny</p><p class=\"temp temp-high\">High: 60 °F</p></div></li><li class=\"forecast-tombstone\">\n",
      "<div class=\"tombstone-container\">\n",
      "<p class=\"period-name\">Friday<br/>Night</p>\n",
      "<p><img alt=\"Friday Night: Partly cloudy, with a low around 43. North wind around 6 mph becoming calm  in the evening. \" class=\"forecast-icon\" src=\"newimages/medium/nsct.png\" title=\"Friday Night: Partly cloudy, with a low around 43. North wind around 6 mph becoming calm  in the evening. \"/></p><p class=\"short-desc\">Partly Cloudy</p><p class=\"temp temp-low\">Low: 43 °F</p></div></li><li class=\"forecast-tombstone\">\n",
      "<div class=\"tombstone-container\">\n",
      "<p class=\"period-name\">Saturday<br/><br/></p>\n",
      "<p><img alt=\"Saturday: Sunny, with a high near 61. East northeast wind 3 to 6 mph. \" class=\"forecast-icon\" src=\"newimages/medium/few.png\" title=\"Saturday: Sunny, with a high near 61. East northeast wind 3 to 6 mph. \"/></p><p class=\"short-desc\">Sunny</p><p class=\"temp temp-high\">High: 61 °F</p></div></li><li class=\"forecast-tombstone\">\n",
      "<div class=\"tombstone-container\">\n",
      "<p class=\"period-name\">Saturday<br/>Night</p>\n",
      "<p><img alt=\"Saturday Night: Mostly clear, with a low around 42.\" class=\"forecast-icon\" src=\"newimages/medium/nfew.png\" title=\"Saturday Night: Mostly clear, with a low around 42.\"/></p><p class=\"short-desc\">Mostly Clear</p><p class=\"temp temp-low\">Low: 42 °F</p></div></li><li class=\"forecast-tombstone\">\n",
      "<div class=\"tombstone-container\">\n",
      "<p class=\"period-name\">Sunday<br/><br/></p>\n",
      "<p><img alt=\"Sunday: Sunny, with a high near 61.\" class=\"forecast-icon\" src=\"newimages/medium/few.png\" title=\"Sunday: Sunny, with a high near 61.\"/></p><p class=\"short-desc\">Sunny</p><p class=\"temp temp-high\">High: 61 °F</p></div></li><li class=\"forecast-tombstone\">\n",
      "<div class=\"tombstone-container\">\n",
      "<p class=\"period-name\">Sunday<br/>Night</p>\n",
      "<p><img alt=\"Sunday Night: Mostly clear, with a low around 45.\" class=\"forecast-icon\" src=\"newimages/medium/nfew.png\" title=\"Sunday Night: Mostly clear, with a low around 45.\"/></p><p class=\"short-desc\">Mostly Clear</p><p class=\"temp temp-low\">Low: 45 °F</p></div></li><li class=\"forecast-tombstone\">\n",
      "<div class=\"tombstone-container\">\n",
      "<p class=\"period-name\">Washington's<br/>Birthday</p>\n",
      "<p><img alt=\"Washington's Birthday: Mostly sunny, with a high near 60.\" class=\"forecast-icon\" src=\"newimages/medium/sct.png\" title=\"Washington's Birthday: Mostly sunny, with a high near 60.\"/></p><p class=\"short-desc\">Mostly Sunny</p><p class=\"temp temp-high\">High: 60 °F</p></div></li></ul></div>\n",
      "<script type=\"text/javascript\">\n",
      "// equalize forecast heights\n",
      "$(function () {\n",
      "    var maxh = 0;\n",
      "    $(\".forecast-tombstone .short-desc\").each(function () {\n",
      "        var h = $(this).height();\n",
      "        if (h > maxh) { maxh = h; }\n",
      "    });\n",
      "    $(\".forecast-tombstone .short-desc\").height(maxh);\n",
      "});\n",
      "</script> </div>\n",
      "</div>\n",
      "<!-- Everything between 7-Day Forecast and Footer goes in this row -->\n",
      "<div class=\"row\" id=\"floatingDivs\">\n",
      "<!-- Everything on the left-hand side -->\n",
      "<div class=\"col-md-7 col-lg-8\">\n",
      "<!-- Detailed Forecast -->\n",
      "<div class=\"panel panel-default\" id=\"detailed-forecast\">\n",
      "<div class=\"panel-heading\">\n",
      "<h2 class=\"panel-title\">Detailed Forecast</h2>\n",
      "</div>\n",
      "<div class=\"panel-body\" id=\"detailed-forecast-body\">\n",
      "<div class=\"row row-odd row-forecast\"><div class=\"col-sm-2 forecast-label\"><b>Today</b></div><div class=\"col-sm-10 forecast-text\">Mostly cloudy, with a high near 58. Southeast wind 5 to 7 mph. </div></div><div class=\"row row-even row-forecast\"><div class=\"col-sm-2 forecast-label\"><b>Tonight</b></div><div class=\"col-sm-10 forecast-text\">Mostly cloudy, with a low around 43. South southeast wind around 7 mph becoming east after midnight. </div></div><div class=\"row row-odd row-forecast\"><div class=\"col-sm-2 forecast-label\"><b>Friday</b></div><div class=\"col-sm-10 forecast-text\">Partly sunny, with a high near 60. East northeast wind around 8 mph. </div></div><div class=\"row row-even row-forecast\"><div class=\"col-sm-2 forecast-label\"><b>Friday Night</b></div><div class=\"col-sm-10 forecast-text\">Partly cloudy, with a low around 43. North wind around 6 mph becoming calm  in the evening. </div></div><div class=\"row row-odd row-forecast\"><div class=\"col-sm-2 forecast-label\"><b>Saturday</b></div><div class=\"col-sm-10 forecast-text\">Sunny, with a high near 61. East northeast wind 3 to 6 mph. </div></div><div class=\"row row-even row-forecast\"><div class=\"col-sm-2 forecast-label\"><b>Saturday Night</b></div><div class=\"col-sm-10 forecast-text\">Mostly clear, with a low around 42.</div></div><div class=\"row row-odd row-forecast\"><div class=\"col-sm-2 forecast-label\"><b>Sunday</b></div><div class=\"col-sm-10 forecast-text\">Sunny, with a high near 61.</div></div><div class=\"row row-even row-forecast\"><div class=\"col-sm-2 forecast-label\"><b>Sunday Night</b></div><div class=\"col-sm-10 forecast-text\">Mostly clear, with a low around 45.</div></div><div class=\"row row-odd row-forecast\"><div class=\"col-sm-2 forecast-label\"><b>Washington's Birthday</b></div><div class=\"col-sm-10 forecast-text\">Mostly sunny, with a high near 60.</div></div><div class=\"row row-even row-forecast\"><div class=\"col-sm-2 forecast-label\"><b>Monday Night</b></div><div class=\"col-sm-10 forecast-text\">Partly cloudy, with a low around 47.</div></div><div class=\"row row-odd row-forecast\"><div class=\"col-sm-2 forecast-label\"><b>Tuesday</b></div><div class=\"col-sm-10 forecast-text\">Partly sunny, with a high near 58.</div></div><div class=\"row row-even row-forecast\"><div class=\"col-sm-2 forecast-label\"><b>Tuesday Night</b></div><div class=\"col-sm-10 forecast-text\">Partly cloudy, with a low around 44.</div></div><div class=\"row row-odd row-forecast\"><div class=\"col-sm-2 forecast-label\"><b>Wednesday</b></div><div class=\"col-sm-10 forecast-text\">A slight chance of rain.  Mostly sunny, with a high near 53.</div></div> </div>\n",
      "</div>\n",
      "<!-- /Detailed Forecast -->\n",
      "<!-- Additional Forecasts and Information -->\n",
      "<div class=\"panel panel-default\" id=\"additional_forecasts\">\n",
      "<div class=\"panel-heading\">\n",
      "<h2 class=\"panel-title\">Additional Forecasts and Information</h2>\n",
      "</div>\n",
      "<div class=\"panel-body\" id=\"additional-forecasts-body\">\n",
      "<p class=\"myforecast-location\"><a href=\"MapClick.php?zoneid=CAZ006\">Zone Area Forecast for San Francisco County, CA</a></p>\n",
      "<!-- First nine-ten links -->\n",
      "<div id=\"linkBlockContainer\">\n",
      "<div class=\"linkBlock\">\n",
      "<ul class=\"list-unstyled\">\n",
      "<li><a href=\"//forecast.weather.gov/product.php?site=MTR&amp;issuedby=MTR&amp;product=AFD&amp;format=CI&amp;version=1&amp;glossary=1\">Forecast Discussion</a></li>\n",
      "<li><a href=\"MapClick.php?lat=37.7771&amp;lon=-122.4196&amp;unit=0&amp;lg=english&amp;FcstType=text&amp;TextType=2\">Printable Forecast</a></li>\n",
      "<li><a href=\"MapClick.php?lat=37.7771&amp;lon=-122.4196&amp;unit=0&amp;lg=english&amp;FcstType=text&amp;TextType=1\">Text Only Forecast</a></li>\n",
      "</ul>\n",
      "</div>\n",
      "<div class=\"linkBlock\">\n",
      "<ul class=\"list-unstyled\">\n",
      "<li><a href=\"MapClick.php?lat=37.7771&amp;lon=-122.4196&amp;unit=0&amp;lg=english&amp;FcstType=graphical\">Hourly Weather Forecast</a></li>\n",
      "<li><a href=\"MapClick.php?lat=37.7771&amp;lon=-122.4196&amp;unit=0&amp;lg=english&amp;FcstType=digital\">Tabular Forecast</a></li>\n",
      "<!-- <li><a href=\"afm/PointClick.php?lat=37.7771&lon=-122.4196\">Quick Forecast</a></li> -->\n",
      "</ul>\n",
      "</div>\n",
      "<div class=\"linkBlock\">\n",
      "<ul class=\"list-unstyled\">\n",
      "<li><a href=\"//weather.gov/aq/probe_aq_data.php?latitude=37.7771&amp;longitude=-122.4196\">Air Quality Forecasts</a></li>\n",
      "<li><a href=\"MapClick.php?lat=37.7771&amp;lon=-122.4196&amp;FcstType=text&amp;unit=1&amp;lg=en\">International System of Units</a></li>\n",
      "<li><a href=\"//www.wrh.noaa.gov/forecast/wxtables/index.php?lat=37.7771&amp;lon=-122.4196\">Forecast Weather Table Interface</a></li>\n",
      "</ul>\n",
      "</div>\n",
      "<!-- /First nine-ten links -->\n",
      "<!-- Additional links -->\n",
      "<div class=\"linkBlock\"><ul class=\"list-unstyled\"><li><a href=\"http://www.wrh.noaa.gov/mtr/versprod.php?pil=RR8&amp;sid=RSA\" target=\"_self\">Hourly River Stages</a></li><li><a href=\"http://www.wrh.noaa.gov/mtr/versprod.php?pil=RR5&amp;sid=RSA\" target=\"_self\">Hourly Rainfall</a></li></ul></div><div class=\"linkBlock\"><ul class=\"list-unstyled\"><li><a href=\"http://www.wrh.noaa.gov/mtr/wxlinks.php\" target=\"_self\">NWS Office Map</a></li><li><a href=\"http://www.wrh.noaa.gov/mtr/wx_calculator.php\" target=\"_self\">Weather Calculator</a></li></ul></div><div class=\"linkBlock\"><ul class=\"list-unstyled\"><li><a href=\"http://www.nws.noaa.gov/wtf/udaf/area/?site=mtr\" target=\"_self\">User Defined Area</a></li></ul></div>\n",
      "</div> <!-- /linkBlockContainer -->\n",
      "</div><!-- /additional-forecasts-body-->\n",
      "</div> <!-- /additional_forecasts -->\n",
      "</div> <!-- /Everything on the left-hand side -->\n",
      "<!-- right-side-data -->\n",
      "<div class=\"col-md-5 col-lg-4\" id=\"right-side-data\">\n",
      "<div id=\"mapAndDescriptionArea\">\n",
      "<!-- openlayer map -->\n",
      "<style>\n",
      "#custom-search{\n",
      "display: block;\n",
      "position: relative;\n",
      "z-index: 50;\n",
      "top: 52px;\n",
      "left: 60px;\n",
      "}\n",
      "#esri-geocoder-search{\n",
      "display: block;\n",
      "position: relative;\n",
      "z-index: 50;\n",
      "top: 52px;\n",
      "left: 60px;\n",
      "}\n",
      "#emap{\n",
      "margin-top:15px;\n",
      "cursor:pointer;\n",
      "height:370px;\n",
      "width:100%;\n",
      "border: 1px solid #ccc;\n",
      "border-radius: 3px;\n",
      "}\n",
      "#switch-basemap-container{\n",
      "}\n",
      "#basemap-selection-form ul{\n",
      "list-style: none;\n",
      " margin: 0px;\n",
      "}\n",
      "#basemap-selection-form li{\n",
      "float: left;\n",
      "}\n",
      ".disclaimer{\n",
      "margin-top:350px;\n",
      "margin-left: 5px;\n",
      "z-index: 100;\n",
      "position: absolute;\n",
      "text-transform: none;\n",
      "}\n",
      ".esriAttributionLastItem{\n",
      "text-transform: none;\n",
      "}\n",
      ".esriSimpleSlider div{\n",
      "height:22px;\n",
      "line-height:20px;\n",
      "width:20px;\n",
      "}\n",
      "#point-forecast-map-label {\n",
      "text-align:center;\n",
      "font-weight:bold;\n",
      "color:black;\n",
      "}\n",
      "@media (max-width: 767px) {\n",
      "#emap{\n",
      "margin-top:.5em;\n",
      "height:270px;\n",
      "}\n",
      ".disclaimer{\n",
      "margin-top:250px;\n",
      "}\n",
      "}\n",
      "</style>\n",
      "<!-- forecast-map -->\n",
      "<div class=\"point-forecast-map\">\n",
      "<div class=\"point-forecast-map-header text-center\">\n",
      "<div id=\"toolbar\">\n",
      "<div id=\"switch-basemap-container\">\n",
      "<div id=\"basemap-selection-form\" title=\"Choose a Basemap\">\n",
      "<div id=\"basemap-menu\">\n",
      "<select autocomplete=\"off\" id=\"basemap-selected\" name=\"basemap-selected\" title=\"Basemap Dropdown Menu\">\n",
      "<option value=\"none\">Select Basemap</option>\n",
      "<option selected=\"\" value=\"topo\">Topographic</option>\n",
      "<option value=\"streets\">Streets</option>\n",
      "<option value=\"satellite\">Satellite</option>\n",
      "<option value=\"ocean\">Ocean</option>\n",
      "</select>\n",
      "</div>\n",
      "</div>\n",
      "<div id=\"point-forecast-map-label\">\n",
      "                    Click Map For Forecast\n",
      "                </div>\n",
      "</div><!-- //#switch-basemap-container -->\n",
      "<div style=\"clear:both;\"></div>\n",
      "</div><!-- //#toolbar -->\n",
      "</div><!-- //.point-forecast-map-header -->\n",
      "<div id=\"emap\">\n",
      "<noscript><center><br/><br/><b>Map function requires Javascript and a compatible browser.</b></center></noscript>\n",
      "<div class=\"disclaimer\"><a href=\"http://www.weather.gov/disclaimer#esri\">Disclaimer</a></div>\n",
      "</div><!-- //#emap -->\n",
      "<div class=\"point-forecast-map-footer\">\n",
      "<img alt=\"Map Legend\" height=\"16\" src=\"./images/wtf/maplegend_forecast-area.gif\" width=\"100\"/>\n",
      "</div><!-- //.point-forecast-map-footer -->\n",
      "</div> <!-- //.point-forecast-map -->\n",
      "<!-- //forecast-map -->\n",
      "<!-- //openlayer map -->\n",
      "<!-- About this Forecast -->\n",
      "<div id=\"about_forecast\">\n",
      "<div class=\"fullRow\">\n",
      "<div class=\"left\">Point Forecast:</div>\n",
      "<div class=\"right\">San Francisco CA<br/> 37.77°N 122.41°W (Elev. 131 ft)</div>\n",
      "</div>\n",
      "<div class=\"fullRow\">\n",
      "<div class=\"left\"><a href=\"//www.weather.gov/glossary/index.php?word=Last+update\" target=\"_blank\">Last Update</a>: </div>\n",
      "<div class=\"right\">4:01 am PST Feb 16, 2023</div>\n",
      "</div>\n",
      "<div class=\"fullRow\">\n",
      "<div class=\"left\"><a href=\"//www.weather.gov/glossary/index.php?word=forecast+valid+for\" target=\"_blank\">Forecast Valid</a>: </div>\n",
      "<div class=\"right\">4am PST Feb 16, 2023-6pm PST Feb 22, 2023</div>\n",
      "</div>\n",
      "<div class=\"fullRow\">\n",
      "<div class=\"left\"> </div>\n",
      "<div class=\"right\"><a href=\"https://forecast.weather.gov/product.php?site=MTR&amp;issuedby=MTR&amp;product=AFD&amp;format=CI&amp;version=1&amp;glossary=1\">Forecast Discussion</a></div>\n",
      "</div>\n",
      "<div class=\"fullRow\">\n",
      "<div class=\"left\"> </div>\n",
      "<div class=\"right\">\n",
      "<a href=\"MapClick.php?lat=37.7771&amp;lon=-122.4196&amp;unit=0&amp;lg=english&amp;FcstType=kml\"><img alt=\"Get as KML\" height=\"17\" src=\"/images/wtf/kml_badge.png\" width=\"45\"/></a>\n",
      "<a href=\"MapClick.php?lat=37.7771&amp;lon=-122.4196&amp;unit=0&amp;lg=english&amp;FcstType=dwml\"><img alt=\"Get as XML\" height=\"17\" src=\"/images/wtf/xml_badge.png\" width=\"45\"/></a>\n",
      "</div>\n",
      "</div>\n",
      "</div>\n",
      "<!-- /About this Forecast -->\n",
      "</div>\n",
      "<!--additionalForecast-->\n",
      "<div class=\"panel panel-default\" id=\"additionalForecast\">\n",
      "<div class=\"panel-heading\">\n",
      "<h2 class=\"panel-title\">Additional Resources</h2>\n",
      "</div>\n",
      "<div class=\"panel-body\">\n",
      "<!-- Radar & Satellite Images -->\n",
      "<div class=\"subItem\" id=\"radar\">\n",
      "<h4>Radar &amp; Satellite Image</h4>\n",
      "<a href=\"http://radar.weather.gov/station/kmux/standard\"><img alt=\"Link to Local Radar Data\" class=\"radar-thumb\" src=\"http://radar.weather.gov/ridge/standard/KMUX_0.gif\" title=\"Link to Local Radar Data\"/></a> <a href=\"https://www.star.nesdis.noaa.gov/GOES/sector.php?sat=G17§or=psw\"><img alt=\"Link to Satellite Data\" class=\"satellite-thumb\" src=\"https://cdn.star.nesdis.noaa.gov/GOES17/ABI/SECTOR/psw/GEOCOLOR/600x600.jpg\" title=\"Link to Satellite Data\"/></a> </div>\n",
      "<!-- /Radar & Satellite Images -->\n",
      "<!-- Hourly Weather Forecast -->\n",
      "<div class=\"subItem\" id=\"feature\">\n",
      "<h4>Hourly Weather Forecast</h4>\n",
      "<a href=\"MapClick.php?lat=37.7771&amp;lon=-122.4196&amp;unit=0&amp;lg=english&amp;FcstType=graphical\"><img class=\"img-responsive\" src=\"newimages/medium/hourlyweather.png\"/></a>\n",
      "</div>\n",
      "<!-- /Hourly Weather Forecast -->\n",
      "<!-- NDFD -->\n",
      "<div class=\"subItem\" id=\"NDFD\">\n",
      "<h4>National Digital Forecast Database</h4>\n",
      "<div class=\"one-sixth-first\"><a href=\"//graphical.weather.gov/sectors/pacsouthwest.php?element=MaxT\"><img alt=\"National Digital Forecast Database Maximum Temperature Forecast\" border=\"0\" height=\"150\" src=\"//graphical.weather.gov/images/thumbnail/latest_MaxMinT_pacsouthwest_thumbnail.png\" title=\"National Digital Forecast Database Maximum Temperature Forecast\" width=\"147\"/></a>\n",
      "<p><a href=\"//graphical.weather.gov/sectors/pacsouthwest.php?element=MaxT\">High Temperature</a></p></div><div class=\"one-sixth-first\"><a href=\"//graphical.weather.gov/sectors/pacsouthwest.php?element=Wx\"><img alt=\"National Digital Forecast Database Weather Element Forecast\" border=\"0\" height=\"150\" src=\"//graphical.weather.gov/images/thumbnail/latest_Wx_pacsouthwest_thumbnail.png\" title=\"National Digital Forecast Database Weather Element Forecast\" width=\"147\"/></a>\n",
      "<p><a href=\"//graphical.weather.gov/sectors/pacsouthwest.php?element=Wx\">Chance of Precipitation</a></p></div> </div>\n",
      "<!-- /NDFD -->\n",
      "</div>\n",
      "</div>\n",
      "<!-- /additionalForecast -->\n",
      "</div>\n",
      "<!-- /col-md-4 -->\n",
      "<!-- /right-side-data -->\n",
      "<script language=\"javascript\">$( document ).ready(function() { load_openlayers_map('', '', '', '{\"centroid_lat\":\"37.7771\",\"centroid_lon\":\"-122.4196\",\"lat1\":\"37.7595\",\"lon1\":\"-122.4205\",\"lat2\":\"37.781\",\"lon2\":\"-122.426\",\"lat3\":\"37.7855\",\"lon3\":\"-122.3985\",\"lat4\":\"37.764\",\"lon4\":\"-122.393\"}') });</script></div>\n",
      "<!-- /row  -->\n",
      "</img></div>\n",
      "<!-- /PageFormat-Land -->\n",
      "</main></body>\n"
     ]
    },
    {
     "data": {
      "text/plain": [
       "{'day1': ['sunday', '54', 'today was a great sunny day '],\n",
       " 'day2': ['monday', '54', 'today was a great sunny day ']}"
      ]
     },
     "execution_count": 11,
     "metadata": {},
     "output_type": "execute_result"
    }
   ],
   "source": [
    "# Weather.gov\n",
    "    \n",
    "import requests\n",
    "from bs4 import BeautifulSoup\n",
    "\n",
    "page = requests.get(\"https://forecast.weather.gov/MapClick.php?lat=37.777120000000025&lon=-122.41963999999996#.X9DVpBakolQ\")\n",
    "soup = BeautifulSoup(page.content, 'html.parser')\n",
    "html = list(soup.children)[2]\n",
    "body = list(html.children)[3]\n",
    "\n",
    "print(body)\n",
    "\n",
    "#target parents\n",
    "#go deeper into childen\n",
    "#find p element or relevant class\n",
    "\n",
    "    #target day\n",
    "    #target temperature\n",
    "    #target summary \n",
    "    \n",
    "#save into a list\n",
    "#save into a dictionary?\n",
    "\n",
    "{\"day1\":[\"sunday\", \"54\", 'today was a great sunny day '], \"day2\":[\"monday\", \"54\", 'today was a great sunny day ']}\n",
    "\n",
    "#load dict into pandas\n",
    "# create column names if needed"
   ]
  },
  {
   "cell_type": "code",
   "execution_count": null,
   "metadata": {},
   "outputs": [
    {
     "name": "stdout",
     "output_type": "stream",
     "text": [
      "\n",
      "This are the children\n",
      "\n",
      "Here is some simple content for this page.\n"
     ]
    }
   ],
   "source": [
    "# For further information\n",
    "# https://www.dataquest.io/blog/python-api-tutorial/\n",
    "\n",
    "import requests\n",
    "from bs4 import BeautifulSoup\n",
    "\n",
    "page = requests.get(\"http://dataquestio.github.io/web-scraping-pages/simple.html\")\n",
    "# Print the status code of the response.\n",
    "\n",
    "soup = BeautifulSoup(page.content, 'html.parser')\n",
    "#print(soup.prettify())\n",
    "\n",
    "print()\n",
    "print(\"This are the children\")\n",
    "print()\n",
    "\n",
    "html = list(soup.children)[2]\n",
    "#print(html)\n",
    "\n",
    "body = list(html.children)[3]\n",
    "#print(body)\n",
    "\n",
    "p = list(body.children)[1]\n",
    "#print(p)\n",
    "\n",
    "#print(p.get_text())\n",
    "\n",
    "#Faster Way\n",
    "\n",
    "p = soup.find('p')\n",
    "\n",
    "print(p.get_text())\n"
   ]
  },
  {
   "cell_type": "code",
   "execution_count": null,
   "metadata": {},
   "outputs": [],
   "source": [
    "l = ['html', '\\n', \"<html> <head> <title>A simple example page</title></head><body><p>Here is some simple content for this page.</p></body></html>\"]"
   ]
  },
  {
   "cell_type": "code",
   "execution_count": null,
   "metadata": {},
   "outputs": [
    {
     "data": {
      "text/plain": [
       "'<html> <head> <title>A simple example page</title></head><body><p>Here is some simple content for this page.</p></body></html>'"
      ]
     },
     "execution_count": 42,
     "metadata": {},
     "output_type": "execute_result"
    }
   ],
   "source": [
    "l[2]"
   ]
  },
  {
   "cell_type": "markdown",
   "metadata": {},
   "source": [
    "# FindAll with BS"
   ]
  },
  {
   "cell_type": "code",
   "execution_count": null,
   "metadata": {},
   "outputs": [
    {
     "name": "stdout",
     "output_type": "stream",
     "text": [
      "<p class=\"outer-text first-item\" id=\"second\">\n",
      "<b>\n",
      "                First outer paragraph.\n",
      "            </b>\n",
      "</p>\n"
     ]
    }
   ],
   "source": [
    "# https://www.dataquest.io/blog/python-api-tutorial/\n",
    "\n",
    "import requests\n",
    "from bs4 import BeautifulSoup\n",
    "\n",
    "page =requests.get(\"http://dataquestio.github.io/web-scraping-pages/ids_and_classes.html\")\n",
    "# Print the status code of the response.\n",
    "\n",
    "soup =BeautifulSoup(page.content, 'html.parser')\n",
    "#print(soup.prettify())\n",
    "\n",
    "outer = soup.find_all('p', class_='outer-text')[0]\n",
    "#outer = soup.find(id='first').string\n",
    "print(outer)\n"
   ]
  },
  {
   "cell_type": "code",
   "execution_count": null,
   "metadata": {},
   "outputs": [
    {
     "data": {
      "text/plain": [
       "<b>\n",
       "                First outer paragraph.\n",
       "            </b>"
      ]
     },
     "execution_count": 58,
     "metadata": {},
     "output_type": "execute_result"
    }
   ],
   "source": [
    "outer.find_all('b')[0]"
   ]
  },
  {
   "cell_type": "code",
   "execution_count": null,
   "metadata": {},
   "outputs": [],
   "source": []
  }
 ],
 "metadata": {
  "kernelspec": {
   "display_name": "deeplearning",
   "language": "python",
   "name": "python3"
  },
  "language_info": {
   "codemirror_mode": {
    "name": "ipython",
    "version": 3
   },
   "file_extension": ".py",
   "mimetype": "text/x-python",
   "name": "python",
   "nbconvert_exporter": "python",
   "pygments_lexer": "ipython3",
   "version": "3.8.13"
  },
  "vscode": {
   "interpreter": {
    "hash": "6a29e2c6032db948d2ac4841a3008c24c124c9d60225cd5bb2e940e04b511554"
   }
  }
 },
 "nbformat": 4,
 "nbformat_minor": 4
}
